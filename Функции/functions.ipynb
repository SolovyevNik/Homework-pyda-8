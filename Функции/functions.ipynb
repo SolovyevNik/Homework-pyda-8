{
 "cells": [
  {
   "cell_type": "markdown",
   "metadata": {},
   "source": [
    "## Задание 1"
   ]
  },
  {
   "cell_type": "markdown",
   "metadata": {},
   "source": [
    "Дан список вида:"
   ]
  },
  {
   "cell_type": "code",
   "execution_count": 4,
   "metadata": {},
   "outputs": [],
   "source": [
    "data = [\n",
    "    [13, 25, 23, 34],\n",
    "    [45, 32, 44, 47],\n",
    "    [12, 33, 23, 95],\n",
    "    [13, 53, 34, 35]\n",
    "]"
   ]
  },
  {
   "cell_type": "markdown",
   "metadata": {},
   "source": [
    "Напишите функцию, которая возвращает сумму элементов на диагонали. Т. е. 13+32+23+35.  \n",
    "Список может быть любой длины, но всегда является \"квадратным\" (количество элементов во вложенных списках равно их количеству)."
   ]
  },
  {
   "cell_type": "code",
   "execution_count": 5,
   "metadata": {},
   "outputs": [],
   "source": [
    "def matrix(list_2):\n",
    "    sum_data = 0\n",
    "    for k, v in enumerate(data):\n",
    "        sum_data = sum_data + data[k][k]\n",
    "    return sum_data"
   ]
  },
  {
   "cell_type": "code",
   "execution_count": 6,
   "metadata": {},
   "outputs": [
    {
     "data": {
      "text/plain": [
       "103"
      ]
     },
     "execution_count": 6,
     "metadata": {},
     "output_type": "execute_result"
    }
   ],
   "source": [
    "data = [\n",
    "    [13, 25, 23, 34],\n",
    "    [45, 32, 44, 47],\n",
    "    [12, 33, 23, 95],\n",
    "    [13, 53, 34, 35]\n",
    "]\n",
    "matrix(data)"
   ]
  },
  {
   "cell_type": "markdown",
   "metadata": {},
   "source": [
    "## Задание 2"
   ]
  },
  {
   "cell_type": "markdown",
   "metadata": {},
   "source": [
    "Напишите функцию, возвращающую сумму первых n чисел Фибоначчи (для этого вам может понадобится ознакомиться с рекурсией)."
   ]
  },
  {
   "cell_type": "code",
   "execution_count": 7,
   "metadata": {},
   "outputs": [],
   "source": [
    "def fibonacci(n):\n",
    "    if n in (0, 1, 2):\n",
    "        return 1\n",
    "    return fibonacci(n - 1) + fibonacci(n - 2)"
   ]
  },
  {
   "cell_type": "code",
   "execution_count": 25,
   "metadata": {},
   "outputs": [
    {
     "data": {
      "text/plain": [
       "3"
      ]
     },
     "execution_count": 25,
     "metadata": {},
     "output_type": "execute_result"
    }
   ],
   "source": [
    "fibonacci(4)"
   ]
  },
  {
   "cell_type": "markdown",
   "metadata": {},
   "source": [
    "## Задание 3\n"
   ]
  },
  {
   "cell_type": "markdown",
   "metadata": {},
   "source": [
    "Напишите функцию, преобразующую произвольный список вида ['2018-01-01', 'yandex', 'cpc', 100] (он может быть любой длины) в словарь {'2018-01-01': {'yandex': {'cpc': 100}}}"
   ]
  },
  {
   "cell_type": "code",
   "execution_count": 9,
   "metadata": {},
   "outputs": [],
   "source": [
    "def dict_from_list_reversed_slice(list_):\n",
    "    result = list_[-1]\n",
    "    for v in reversed(list_[:-1]):\n",
    "        result = {v: result}\n",
    "    return result"
   ]
  },
  {
   "cell_type": "code",
   "execution_count": 10,
   "metadata": {},
   "outputs": [],
   "source": [
    "list_ = ['2018-01-01', 'yandex', 'cpc', 100]"
   ]
  },
  {
   "cell_type": "code",
   "execution_count": 11,
   "metadata": {},
   "outputs": [
    {
     "data": {
      "text/plain": [
       "{'2018-01-01': {'yandex': {'cpc': 100}}}"
      ]
     },
     "execution_count": 11,
     "metadata": {},
     "output_type": "execute_result"
    }
   ],
   "source": [
    "dict_from_list_reversed_slice(list_)"
   ]
  },
  {
   "cell_type": "code",
   "execution_count": null,
   "metadata": {},
   "outputs": [],
   "source": []
  },
  {
   "cell_type": "markdown",
   "metadata": {},
   "source": [
    "## Задание 4"
   ]
  },
  {
   "cell_type": "markdown",
   "metadata": {},
   "source": [
    "Вы работаете секретарем и вам постоянно приходят различные документы. Вы должны быть очень внимательны, чтобы не потерять ни один документ. Каталог документов хранится в следующем виде:"
   ]
  },
  {
   "cell_type": "code",
   "execution_count": 12,
   "metadata": {},
   "outputs": [],
   "source": [
    "documents = [\n",
    "    {'type': 'passport', 'number': '2207 876234', 'name': 'Василий Гупкин'},\n",
    "    {'type': 'invoice', 'number': '11-2', 'name': 'Геннадий Покемонов'},\n",
    "    {'type': 'insurance', 'number': '10006', 'name': 'Аристарх Павлов'}\n",
    "]"
   ]
  },
  {
   "cell_type": "markdown",
   "metadata": {},
   "source": [
    "Перечень полок, на которых находятся документы хранится в следующем виде:"
   ]
  },
  {
   "cell_type": "code",
   "execution_count": 13,
   "metadata": {},
   "outputs": [],
   "source": [
    "directories = {\n",
    "    '1': ['2207 876234', '11-2', '5455 028765'],\n",
    "    '2': ['10006', '5400 028765', '5455 002299'],\n",
    "    '3': []\n",
    "}"
   ]
  },
  {
   "cell_type": "markdown",
   "metadata": {},
   "source": [
    "Необходимо реализовать пользовательские команды (внимание! это не название функций, которые должны быть выразительными, а команды, которые вводит пользователь, чтобы получить необходимый результат):\n",
    "  \n",
    "- p – people – команда, которая спросит номер документа и выведет имя человека, которому он принадлежит;  \n",
    "- s – shelf – команда, которая спросит номер документа и выведет номер полки, на которой он находится  \n",
    "Правильно обработайте ситуацию, когда пользователь будет вводить несуществующий документ.\n",
    "- l – list – команда, которая выведет список всех документов в формате   \n",
    "**passport \"2207 876234\" \"Василий Гупкин\"**  \n",
    "- as – add shelf – команда, которая спросит номер новой полки и добавит ее в перечень\n",
    "- d – delete – команда, которая спросит номер документа и удалит его из каталога и из перечня полок. Предусмотрите сценарий, когда пользователь вводит несуществующий документ;  \n",
    "- m – move – команда, которая спросит номер документа и целевую полку и переместит его с текущей полки на целевую. Корректно обработайте кейсы, когда пользователь пытается переместить несуществующий документ или переместить документ на несуществующую полку;  \n",
    "- a – add – команда, которая добавит новый документ в каталог и в перечень полок, спросив его номер, тип, имя владельца и номер полки, на котором он будет храниться."
   ]
  },
  {
   "cell_type": "code",
   "execution_count": 14,
   "metadata": {},
   "outputs": [],
   "source": [
    "def get_people(num_doc):\n",
    "    for doc_dict in documents:\n",
    "        if doc_dict['number'] == num_doc:\n",
    "            return doc_dict['name']\n",
    "    return 'Такого документа нет'"
   ]
  },
  {
   "cell_type": "code",
   "execution_count": 15,
   "metadata": {},
   "outputs": [],
   "source": [
    "def get_shelf(num_doc):\n",
    "    for shelf, number in directories.items():\n",
    "        if num_doc in number:\n",
    "            return print(shelf)\n",
    "    return 'Такого документа нет'"
   ]
  },
  {
   "cell_type": "code",
   "execution_count": 16,
   "metadata": {},
   "outputs": [],
   "source": [
    "def get_list():\n",
    "    for document in documents:\n",
    "        document_list = ' '.join(document.values())\n",
    "        print(document_list)"
   ]
  },
  {
   "cell_type": "code",
   "execution_count": 17,
   "metadata": {},
   "outputs": [],
   "source": [
    "def add_shelf(num_shelf):\n",
    "    if num_shelf not in directories.keys():\n",
    "        directories[num_shelf] = []"
   ]
  },
  {
   "cell_type": "code",
   "execution_count": 18,
   "metadata": {},
   "outputs": [],
   "source": [
    "def delete():\n",
    "    doc_num = input('Введите номер документа для удаления ')\n",
    "    del_flag = False\n",
    "    for el in documents:\n",
    "        if el['number'] == doc_num:\n",
    "            doc_num = el['number']\n",
    "            documents.remove(el)\n",
    "            del_flag = True\n",
    "    if del_flag == False:\n",
    "        print('Такого номера нет')\n",
    "    for key, value in directories.items():\n",
    "        if value.count(doc_num) != 0:\n",
    "            directories[key].remove(doc_num)"
   ]
  },
  {
   "cell_type": "code",
   "execution_count": 19,
   "metadata": {},
   "outputs": [],
   "source": [
    "def add_doc(documents, directories):\n",
    "    doc_number = input('Введите номер документа ')\n",
    "    doc_type = input('Введите тип документа ')\n",
    "    doc_name = input('Введите ФИО владельца документа ')\n",
    "    doc_shelf = input('Введите номер полки для хранения документа ')\n",
    "    if doc_shelf not in directories:\n",
    "        print('Такой полки для создания документа не существует')\n",
    "        return\n",
    "    documents.append({'type': doc_type, 'number': doc_number, 'name': doc_name})\n",
    "    directories[doc_shelf].append(doc_number)\n",
    "    return"
   ]
  },
  {
   "cell_type": "code",
   "execution_count": 20,
   "metadata": {},
   "outputs": [],
   "source": [
    "def del_doc_directories(num_doc):\n",
    "    doc_num = num_doc\n",
    "    del_flag = False\n",
    "    for el in documents:\n",
    "        if el['number'] == doc_num:\n",
    "            doc_num = el['number']\n",
    "            documents.remove(el)\n",
    "            del_flag = True\n",
    "#     if del_flag == False:\n",
    "#         print('Такого номера нет')\n",
    "    for key, value in directories.items():\n",
    "        if value.count(doc_num) != 0:\n",
    "            directories[key].remove(doc_num)\n",
    "\n",
    "def move_doc(num_doc):\n",
    "    for shelf, number in directories.items():\n",
    "        if num_doc in number:\n",
    "            shelf_number = input('введите номер полки для перемещения')\n",
    "            if shelf_number in directories.keys():\n",
    "                del_doc_directories(num_doc) #функция удаления\n",
    "                directories[shelf_number].append(num_doc)\n",
    "                return directories\n",
    "            return print('Такой полки не существует')\n",
    "        else:\n",
    "            return print('Такого документа в базе нет')"
   ]
  },
  {
   "cell_type": "code",
   "execution_count": 21,
   "metadata": {},
   "outputs": [],
   "source": [
    "def main(command):\n",
    "        if command == 'p': #команда, которая спросит номер документа и выведет имя человека, которому он принадлежит\n",
    "            num_doc = input('введите номер документа ')\n",
    "            print(get_people(num_doc))\n",
    "        elif command == 's': #команда, которая спросит номер документа и выведет номер полки, на которой он находится\n",
    "            num_doc = input('введите номер документа ')\n",
    "            print(get_shelf(num_doc))\n",
    "        elif command == 'l': #команда, которая выведет список всех документов в формате\n",
    "            get_list()\n",
    "        elif command == 'as_': #команда, которая спросит номер новой полки и добавит ее в перечень\n",
    "            num_shelf = input('введите номер полки ')\n",
    "            print(add_shelf(num_shelf))\n",
    "        elif command == 'd': #команда, которая спросит номер документа и удалит его из каталога и из перечня полок.\n",
    "            delete()\n",
    "        elif command == 'm': #команда, которая спросит номер документа и целевую полку и переместит его с текущей полки на целевую\n",
    "            num_doc = input('введите номер документа ')\n",
    "            print(move_doc(num_doc))\n",
    "        elif command == 'a': #команда, которая добавит новый документ в каталог и в перечень полок, спросив его номер, тип, имя владельца и номер полки, на котором он будет храниться.\n",
    "            add_doc(documents, directories)"
   ]
  },
  {
   "cell_type": "code",
   "execution_count": 22,
   "metadata": {},
   "outputs": [
    {
     "name": "stdout",
     "output_type": "stream",
     "text": [
      "введите номер документа \n",
      "Такого документа в базе нет\n",
      "None\n"
     ]
    }
   ],
   "source": [
    "main('m')"
   ]
  },
  {
   "cell_type": "code",
   "execution_count": 23,
   "metadata": {},
   "outputs": [
    {
     "data": {
      "text/plain": [
       "{'1': ['2207 876234', '11-2', '5455 028765'],\n",
       " '2': ['10006', '5400 028765', '5455 002299'],\n",
       " '3': []}"
      ]
     },
     "execution_count": 23,
     "metadata": {},
     "output_type": "execute_result"
    }
   ],
   "source": [
    "directories"
   ]
  },
  {
   "cell_type": "code",
   "execution_count": null,
   "metadata": {},
   "outputs": [],
   "source": []
  }
 ],
 "metadata": {
  "kernelspec": {
   "display_name": "Python 3",
   "language": "python",
   "name": "python3"
  },
  "language_info": {
   "codemirror_mode": {
    "name": "ipython",
    "version": 3
   },
   "file_extension": ".py",
   "mimetype": "text/x-python",
   "name": "python",
   "nbconvert_exporter": "python",
   "pygments_lexer": "ipython3",
   "version": "3.7.3"
  }
 },
 "nbformat": 4,
 "nbformat_minor": 2
}
