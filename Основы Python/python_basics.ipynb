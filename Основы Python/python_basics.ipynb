{
 "cells": [
  {
   "cell_type": "markdown",
   "metadata": {},
   "source": [
    "**Задание 1**. Даны 2 строки: *long_phrase* и *short_phrase*. \n",
    "Напишите код, который проверяет действительно ли длинная фраза *long_phrase* длиннее короткой *short_phrase*. И выводит *True* или *False* в зависимости от результата сравнения."
   ]
  },
  {
   "cell_type": "code",
   "execution_count": null,
   "metadata": {},
   "outputs": [],
   "source": [
    "long_phrase = 'Насколько проще было бы писать программы, если бы не заказчики'\n",
    "short_phrase = '640Кб должно хватить для любых задач. Билл Гейтс (по легенде)'"
   ]
  },
  {
   "cell_type": "code",
   "execution_count": 11,
   "metadata": {},
   "outputs": [
    {
     "data": {
      "text/plain": [
       "False"
      ]
     },
     "execution_count": 11,
     "metadata": {},
     "output_type": "execute_result"
    }
   ],
   "source": [
    "len('long_phrase') > len('short_phrase')"
   ]
  },
  {
   "cell_type": "markdown",
   "metadata": {},
   "source": [
    "**Задание 2**. Дано значение объема файла в байтах (*в мегабайте 2^20 байт*). Напишите перевод этого значения в мегабайты в формате: \"*Объем файла равен 213.68Mb*\"."
   ]
  },
  {
   "cell_type": "code",
   "execution_count": null,
   "metadata": {},
   "outputs": [],
   "source": [
    "print('Введите объем файла в байтах')\n",
    "v = int(input())\n",
    "mb = v / 1024 / 1024\n",
    "print('Объем файла равен ', mb, \"Mb\")"
   ]
  },
  {
   "cell_type": "markdown",
   "metadata": {},
   "source": [
    "**Задание 3**. Разработать приложение для определения знака зодиака по дате рождения. Пример:\n",
    "\n",
    "Введите месяц: март\n",
    "\n",
    "Введите число: 6\n",
    "\n",
    "Вывод:\n",
    "Рыбы"
   ]
  },
  {
   "cell_type": "code",
   "execution_count": 10,
   "metadata": {},
   "outputs": [
    {
     "name": "stdout",
     "output_type": "stream",
     "text": [
      "Введите месяц рождения март\n",
      "Введите день рождения 14\n",
      "рыбы\n"
     ]
    }
   ],
   "source": [
    "month_bd = input('Введите месяц рождения ')\n",
    "day_bd = int(input('Введите день рождения '))\n",
    "if (month_bd == 'январь' and day_bd > 19) or (month_bd == 'февраль' and day_bd < 19):\n",
    "    print('водолей')\n",
    "elif (month_bd == 'февраль' and day_bd > 19) or (month_bd == 'март' and day_bd < 19):\n",
    "    print('рыбы')\n",
    "elif (month_bd == 'март' and day_bd > 19) or (month_bd == 'апрель' and day_bd < 19):\n",
    "    print('овен')\n",
    "elif (month_bd == 'апрель' and day_bd > 19) or (month_bd == 'май' and day_bd < 19): \n",
    "    print('телец')\n",
    "elif (month_bd == 'май' and day_bd > 19) or (month_bd == 'июнь' and day_bd < 19):  \n",
    "    print('близнецы')\n",
    "elif (month_bd == 'июнь' and day_bd > 19) or (month_bd == 'июль' and day_bd < 19):   \n",
    "    print('рак')\n",
    "elif (month_bd == 'июль' and day_bd > 19) or (month_bd == 'август' and day_bd < 19):  \n",
    "    print('лев')\n",
    "elif (month_bd == 'август' and day_bd > 19) or (month_bd == 'сентябрь' and day_bd < 19):   \n",
    "    print('дева')\n",
    "elif (month_bd == 'сентябрь' and day_bd > 19) or (month_bd == 'октябрь' and day_bd < 19):  \n",
    "    print('весы')\n",
    "elif (month_bd == 'октябрь' and day_bd > 19) or (month_bd == 'ноябрь' and day_bd < 19):  \n",
    "    print('скорпион')\n",
    "elif (month_bd == 'ноябрь' and day_bd > 19) or (month_bd == 'декабрь' and day_bd < 19):  \n",
    "    print('стрелец') \n",
    "elif (month_bd == 'декабрь' and day_bd > 19) or (month_bd == 'январь' and day_bd < 19):  \n",
    "    print('козерог')\n",
    "else:\n",
    "    print('Нет такого знака зодиака')    "
   ]
  },
  {
   "cell_type": "markdown",
   "metadata": {},
   "source": [
    "**Задание 4**. Нужно разработать приложение для финансового планирования.\n",
    "Приложение учитывает сколько уходит на ипотеку, \"на жизнь\" и сколько нужно отложить на пенсию.\n",
    "Пользователь вводит:\n",
    "- заработанную плату в месяц.\n",
    "- сколько процентов от ЗП уходит на ипотеку.\n",
    "- сколько процентов от ЗП уходит \"на жизнь\".\n",
    "- сколько раз приходит премия в год.\n",
    "\n",
    "Остальная часть заработанной платы откладывается на пенсию.\n",
    "\n",
    "Также пользователю приходит премия в размере зарплаты, от которой половина уходит на отпуск, а вторая половина откладывается.\n",
    "\n",
    "Программа должна учитывать сколько премий было в год.\n",
    "\n",
    "Нужно вывести сколько денег тратит пользователь на ипотеку и сколько он накопит за год.\n",
    "\n",
    "Пример:\n",
    "\n",
    "Введите заработанную плату в месяц: 100000\n",
    "\n",
    "Введите сколько процентов уходит на ипотеку: 30\n",
    "\n",
    "Введите сколько процентов уходит на жизнь: 50\n",
    "\n",
    "Введите количество премий за год: 2\n",
    "\n",
    "Вывод:\n",
    "На ипотеку было потрачено: 360000 рублей\n",
    "Было накоплено: 340000 рублей"
   ]
  },
  {
   "cell_type": "code",
   "execution_count": null,
   "metadata": {},
   "outputs": [],
   "source": [
    "salary = int(input('Введите заработанную плату в месяц '))\n",
    "interest_for_morgage = int(input('Введите сколько процентов уходит на ипотеку '))\n",
    "interest_for_life = int(input('Введите сколько процентов уходит на жизнь '))\n",
    "reward = int(input('Введите количество премий за год '))\n",
    "\n",
    "salary_year = salary * 12\n",
    "interest_for_morgage = interest_for_morgage / 100\n",
    "interest_for_life = interest_for_life / 100\n",
    "reward_money = salary * reward / 2\n",
    "\n",
    "total = salary_year * interest_for_morgage + salary_year * interest_for_life + reward_money\n",
    "total_morgage = salary_year * interest_for_morgage\n",
    "print('Было накоплено ', total, 'рублей')\n",
    "print('На ипотеку было потрачено ', total_morgage, 'рублей')"
   ]
  }
 ],
 "metadata": {
  "kernelspec": {
   "display_name": "Python 3",
   "language": "python",
   "name": "python3"
  },
  "language_info": {
   "codemirror_mode": {
    "name": "ipython",
    "version": 3
   },
   "file_extension": ".py",
   "mimetype": "text/x-python",
   "name": "python",
   "nbconvert_exporter": "python",
   "pygments_lexer": "ipython3",
   "version": "3.7.3"
  }
 },
 "nbformat": 4,
 "nbformat_minor": 2
}
